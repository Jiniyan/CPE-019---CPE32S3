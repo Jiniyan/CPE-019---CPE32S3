{
  "nbformat": 4,
  "nbformat_minor": 0,
  "metadata": {
    "colab": {
      "provenance": []
    },
    "kernelspec": {
      "name": "python3",
      "display_name": "Python 3"
    },
    "language_info": {
      "name": "python"
    }
  },
  "cells": [
    {
      "cell_type": "markdown",
      "source": [
        "#**SET B**\n",
        "\n",
        "Write a program to select the 'attempts' and 'qualify' columns from the following DataFrame."
      ],
      "metadata": {
        "id": "JDmvusH6xt9Q"
      }
    },
    {
      "cell_type": "code",
      "source": [
        "import pandas as pd\n",
        "import pandas as np\n",
        "import pandas as numpy\n",
        "\n",
        "np.nan = 0\n",
        "\n",
        "exam_data = {'name': ['Anastasia', 'Dima', 'Katherine', 'James', 'Emily', 'Michael', 'Matthew', 'Laura', 'Kevin', 'Jonas'],\n",
        "             'score': [12.5, 9, 16.5, np.nan, 9, 20, 14.5, np.nan, 8, 19],\n",
        "             'attempts': [1, 3, 2, 3, 2, 3, 1, 1, 2, 1],\n",
        "             'qualify': ['yes', 'no', 'yes', 'no', 'no', 'yes', 'yes', 'no', 'no', 'yes']}\n",
        "labels = ['a', 'b', 'c', 'd', 'e', 'f', 'g', 'h', 'i', 'j']\n",
        "\n",
        "Quiz3 = pd.DataFrame(exam_data, labels)\n",
        "print(Quiz3 [['attempts', 'qualify']])"
      ],
      "metadata": {
        "colab": {
          "base_uri": "https://localhost:8080/"
        },
        "id": "S1sD4x_gxzWP",
        "outputId": "5c049ca5-43b8-43cc-e2f4-5912ed14b3c4"
      },
      "execution_count": 15,
      "outputs": [
        {
          "output_type": "stream",
          "name": "stdout",
          "text": [
            "   attempts qualify\n",
            "a         1     yes\n",
            "b         3      no\n",
            "c         2     yes\n",
            "d         3      no\n",
            "e         2      no\n",
            "f         3     yes\n",
            "g         1     yes\n",
            "h         1      no\n",
            "i         2      no\n",
            "j         1     yes\n"
          ]
        }
      ]
    }
  ]
}